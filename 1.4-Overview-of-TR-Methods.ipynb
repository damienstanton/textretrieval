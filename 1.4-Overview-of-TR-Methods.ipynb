{
 "cells": [
  {
   "cell_type": "markdown",
   "metadata": {},
   "source": [
    "## How to design a ranking function\n",
    "\n",
    "Goal:\n",
    "\n",
    "_Measure the likelihood that document **d** is relevant to query **q**_"
   ]
  },
  {
   "cell_type": "markdown",
   "metadata": {},
   "source": [
    "### Models\n",
    "\n",
    "+ **Similarity-based models**: $f(q,d)=similarity(q,d)$\n",
    "  + Vector space model\n",
    "  \n",
    "+ **Probabilistic models**: $f(d,q)=p(R=1\\mid d,q),\\ where\\ R \\in \\{0,1\\}$\n",
    "  + Class probabilistic model\n",
    "  + Language model\n",
    "  + Divergence-from-randomness\n",
    "\n",
    "+ **Probabilistic inference models**: $f(q,d)= (d \\rightarrow q)$\n",
    "+ **Axiomatic model**: $f(q,d)\\ satisfies\\ constrains$"
   ]
  },
  {
   "cell_type": "markdown",
   "metadata": {},
   "source": [
    "These example models tend to perform equally well [(Fang et al. '11)](http://sifaka.cs.uiuc.edu/czhai/pub/tois-diag.pdf):\n",
    "\n",
    "+ Pivoted length normalization\n",
    "+ BM25\n",
    "+ Query likelihood\n",
    "+ PL2\n",
    "\n",
    "BM25 is the most popular amongst these."
   ]
  },
  {
   "cell_type": "markdown",
   "metadata": {},
   "source": [
    "State of the art ranking functions tend to have some relyed-upon elements in common:\n",
    "\n",
    "+ BOW representation\n",
    "+ TF/DF\n",
    "+ Document length"
   ]
  }
 ],
 "metadata": {
  "kernelspec": {
   "display_name": "Python 3",
   "language": "python",
   "name": "python3"
  },
  "language_info": {
   "codemirror_mode": {
    "name": "ipython",
    "version": 3
   },
   "file_extension": ".py",
   "mimetype": "text/x-python",
   "name": "python",
   "nbconvert_exporter": "python",
   "pygments_lexer": "ipython3",
   "version": "3.6.1"
  }
 },
 "nbformat": 4,
 "nbformat_minor": 2
}
