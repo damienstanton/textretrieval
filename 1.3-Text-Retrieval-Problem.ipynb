{
 "cells": [
  {
   "cell_type": "markdown",
   "metadata": {
    "deletable": true,
    "editable": true
   },
   "source": [
    "## Text Retrieval Problem\n",
    "\n",
    "### TR vs. Database Retrieval\n",
    "\n",
    "+ Information\n",
    "  + Unstructured/free text vs. structured data\n",
    "  + Ambiguous text vs. well-defined semantics\n",
    "\n",
    "+ Query\n",
    "  + Ambiguous vs well-defined semantics\n",
    "  + Incomplete vs. complete specification\n",
    "\n",
    "+ Answers\n",
    "  + Relevant documents vs. matched records\n",
    "\n",
    "  The difference here is that _TR is an empirically defined problem_ and therefore, we have to rely on **empirical evaluation** involving users.\n"
   ]
  },
  {
   "cell_type": "markdown",
   "metadata": {
    "deletable": true,
    "editable": true
   },
   "source": [
    "**Vocabulary:** $V=\\{w{_1}, w{_2}, ..., w{_N} \\}\\ of\\ language$\n",
    "\n",
    "**Query:** $q=q_1,....q_m,\\ where\\ q_i \\in V$\n",
    "\n",
    "**Document:** $d_i = d{_{i1}},...,d{_im_i},\\ where\\ d_{ij} \\in V$\n",
    "\n",
    "**Collection:** $C=\\{d_1,...d_M\\}$\n",
    "\n",
    "**Set of relevant documents:** $R(q) \\subseteq C$\n",
    "  + Generally unknown and user-dependent\n",
    "  + Query is a _hint_ on which doc is in `R(q)`\n",
    "\n",
    "**Task:** compute `R'(q)` an approximation of `R(q)`"
   ]
  },
  {
   "cell_type": "markdown",
   "metadata": {
    "deletable": true,
    "editable": true
   },
   "source": [
    "### Two methods to find R'(q)\n",
    "\n",
    "+ Document Selection\n",
    "\n",
    "  + $R'(q)=\\{d \\in C \\mid f(d,q)=1\\},\\ where\\ f(d,q) \\in\\{0,1\\}$ is an [indicator function](https://en.wikipedia.org/wiki/Indicator_function) or [binary classifier](https://en.wikipedia.org/wiki/Binary_classification)\n",
    "  + The system has to decide if a doc has _absolute relevance_ \n",
    "  \n",
    "+ Document Ranking\n",
    "\n",
    "  + $R'(q)=\\{d \\in C \\mid f(d,q) > \\theta\\}\\ where\\ f(d,q) \\in \\Re$ is a relevance function; $\\theta$ is a threshold determined by the user\n",
    "  + System only needs to decide if a given document is more likely than another or _relative relevance_.\n",
    "  \n",
    "![](https://storage.googleapis.com/personal-notes/docvranking.png)"
   ]
  },
  {
   "cell_type": "markdown",
   "metadata": {
    "deletable": true,
    "editable": true
   },
   "source": [
    "### Problems in document selection\n",
    "\n",
    "+ Classifier is unlikely to be accurate\n",
    "  + **Over-constrained** query $\\rightarrow$ no relevant documents\n",
    "  + **Under-constrained** query $\\rightarrow$ overly noisy\n",
    "  + Hard to find the right position between these\n",
    "  \n",
    "+ Even with some accuracy, all relevant documents are not equally relevant, and thus **prioritization** is needed, and important!\n",
    "\n",
    "This is why ranking is generally preferred in an informal sense. There is also some theoretical grounds:\n",
    "\n",
    "_Probability ranking principle_: Returning a ranked list of documents in descending order of probability that a document is relevant to the query is the optimal strategy under the following two assumptions: [1] The utility of a document (to a user) is **independent** of the utility of any other document and [2] that a user would browse the results **sequentially**"
   ]
  },
  {
   "cell_type": "markdown",
   "metadata": {
    "deletable": true,
    "editable": true
   },
   "source": [
    "The main challenge in TR is therefore this:\n",
    "\n",
    "\n",
    "$f(q,d)=$🤔"
   ]
  }
 ],
 "metadata": {
  "kernelspec": {
   "display_name": "Python 3",
   "language": "python",
   "name": "python3"
  },
  "language_info": {
   "codemirror_mode": {
    "name": "ipython",
    "version": 3
   },
   "file_extension": ".py",
   "mimetype": "text/x-python",
   "name": "python",
   "nbconvert_exporter": "python",
   "pygments_lexer": "ipython3",
   "version": "3.6.1"
  }
 },
 "nbformat": 4,
 "nbformat_minor": 2
}
