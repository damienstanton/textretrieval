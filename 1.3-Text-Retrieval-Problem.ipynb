{
 "cells": [
  {
   "cell_type": "markdown",
   "metadata": {},
   "source": [
    "## Text Retrieval Problem\n",
    "\n",
    "### TR vs. Database Retrieval\n",
    "\n",
    "+ Information\n",
    "  + Unstructured/free text vs. structured data\n",
    "  + Ambiguous text vs. well-defined semantics\n",
    "\n",
    "+ Query\n",
    "  + Ambiguous vs well-defined semantics\n",
    "  + Incomplete vs. complete specification\n",
    "\n",
    "+ Answers\n",
    "  + Relevant documents vs. matched records\n",
    "\n",
    "  The difference here is that _TR is an empirically defined problem_ and therefore, we have to rely on **empirical evaluation** involving users.\n"
   ]
  },
  {
   "cell_type": "markdown",
   "metadata": {},
   "source": [
    "**Vocabulary:** $V=\\{w{_1}, w{_2}, ..., w{_N} \\}\\ of\\ language$\n",
    "\n",
    "**Query:** $q=q_1,....q_m,\\ where\\ q_i \\in V$\n",
    "\n",
    "**Document:** $d_i = d{_{i1}},...,d{_im_i},\\ where\\ d_{ij} \\in V$\n",
    "\n",
    "**Collection:** $C=\\{d_1,...d_M\\}$\n",
    "\n",
    "**Set of relevant documents:** $R(q) \\subseteq C$\n",
    "  + Generally unknown and user-dependent\n",
    "  + Query is a _hint_ on which doc is in `R(q)`\n",
    "\n",
    "**Task:** compute `R'(q)` an approximation of `R(q)`"
   ]
  },
  {
   "cell_type": "markdown",
   "metadata": {},
   "source": [
    "### Two methods to find R'(q)\n",
    "\n",
    "+ Document Selection\n",
    "\n",
    "  + $R'(q)=\\{d \\in C \\mid f(d,q)=1\\},\\ where\\ f(d,q) \\in\\{0,1\\}$ is an [indicator function](https://en.wikipedia.org/wiki/Indicator_function) or [binary classifier](https://en.wikipedia.org/wiki/Binary_classification)\n",
    "  + The system has to decide if a doc has _absolute relevance_"
   ]
  },
  {
   "cell_type": "markdown",
   "metadata": {},
   "source": []
  }
 ],
 "metadata": {
  "kernelspec": {
   "display_name": "Python 3",
   "language": "python",
   "name": "python3"
  },
  "language_info": {
   "codemirror_mode": {
    "name": "ipython",
    "version": 3
   },
   "file_extension": ".py",
   "mimetype": "text/x-python",
   "name": "python",
   "nbconvert_exporter": "python",
   "pygments_lexer": "ipython3",
   "version": "3.6.1"
  }
 },
 "nbformat": 4,
 "nbformat_minor": 2
}
